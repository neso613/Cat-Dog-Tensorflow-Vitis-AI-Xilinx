{
 "cells": [
  {
   "cell_type": "code",
   "execution_count": 1,
   "id": "trained-change",
   "metadata": {},
   "outputs": [],
   "source": [
    "import tensorflow as tf\n",
    "from tensorflow_model_optimization.quantization.keras import vitis_quantize\n",
    "import numpy as np\n",
    "from keras.preprocessing import image\n",
    "from keras.preprocessing.image import ImageDataGenerator"
   ]
  },
  {
   "cell_type": "code",
   "execution_count": 2,
   "id": "trained-eight",
   "metadata": {},
   "outputs": [],
   "source": [
    "model = tf.keras.models.load_model('classifier.h5')\n",
    "quantizer = vitis_quantize.VitisQuantizer(model)"
   ]
  },
  {
   "cell_type": "code",
   "execution_count": 3,
   "id": "balanced-celtic",
   "metadata": {},
   "outputs": [
    {
     "name": "stdout",
     "output_type": "stream",
     "text": [
      "Found 2000 images belonging to 2 classes.\n"
     ]
    }
   ],
   "source": [
    "test_datagen = ImageDataGenerator(rescale = 1./255)\n",
    "test_set = test_datagen.flow_from_directory('dataset/test_set',\n",
    "                                            target_size = (64, 64),\n",
    "                                            batch_size = 32,\n",
    "                                            class_mode = 'binary')"
   ]
  },
  {
   "cell_type": "code",
   "execution_count": 4,
   "id": "hungry-algorithm",
   "metadata": {},
   "outputs": [
    {
     "name": "stdout",
     "output_type": "stream",
     "text": [
      "[INFO] Start CrossLayerEqualization...\n",
      "10/10 [==============================] - 1s 82ms/step\n",
      "[INFO] CrossLayerEqualization Done.\n",
      "[INFO] Start Quantize Calibration...\n",
      "63/63 [==============================] - 71s 1s/step\n",
      "[INFO] Quantize Calibration Done.\n",
      "[INFO] Start Generating Quantized Model...\n",
      "[Warning] Skip quantize pos adjustment for layer quant_dense_1, its quantize pos is [i=None, w=8.0, b=8.0, o=3.0]\n",
      "[INFO] Generating Quantized Model Done.\n"
     ]
    }
   ],
   "source": [
    "\n",
    "quantized_model = quantizer.quantize_model(calib_dataset = test_set)"
   ]
  },
  {
   "cell_type": "code",
   "execution_count": 5,
   "id": "green-bearing",
   "metadata": {},
   "outputs": [],
   "source": [
    "Quant_model_path = 'vitis-ai-quantized-cat_dog-classification-model.h5'"
   ]
  },
  {
   "cell_type": "code",
   "execution_count": 6,
   "id": "headed-surgeon",
   "metadata": {},
   "outputs": [],
   "source": [
    "# Save the model\n",
    "quantized_model.save(Quant_model_path)"
   ]
  },
  {
   "cell_type": "code",
   "execution_count": 7,
   "id": "destroyed-mystery",
   "metadata": {},
   "outputs": [
    {
     "name": "stdout",
     "output_type": "stream",
     "text": [
      "WARNING:tensorflow:No training configuration found in the save file, so the model was *not* compiled. Compile it manually.\n"
     ]
    },
    {
     "data": {
      "text/plain": [
       "<tensorflow.python.keras.engine.sequential.Sequential at 0x7f6d49b1d390>"
      ]
     },
     "execution_count": 7,
     "metadata": {},
     "output_type": "execute_result"
    }
   ],
   "source": [
    "from tensorflow_model_optimization.quantization.keras import vitis_quantize\n",
    "with vitis_quantize.quantize_scope():\n",
    "    quantized_model = tf.keras.models.load_model(Quant_model_path)\n",
    "quantized_model"
   ]
  },
  {
   "cell_type": "code",
   "execution_count": 8,
   "id": "coordinated-martial",
   "metadata": {},
   "outputs": [
    {
     "name": "stdout",
     "output_type": "stream",
     "text": [
      "Model: \"sequential\"\n",
      "_________________________________________________________________\n",
      "Layer (type)                 Output Shape              Param #   \n",
      "=================================================================\n",
      "quant_conv2d_1_input (Quanti (None, 64, 64, 3)         4         \n",
      "_________________________________________________________________\n",
      "quant_conv2d_1 (QuantizeWrap (None, 62, 62, 32)        906       \n",
      "_________________________________________________________________\n",
      "quant_max_pooling2d_1 (Quant (None, 31, 31, 32)        4         \n",
      "_________________________________________________________________\n",
      "quant_conv2d_2 (QuantizeWrap (None, 29, 29, 32)        9258      \n",
      "_________________________________________________________________\n",
      "quant_max_pooling2d_2 (Quant (None, 14, 14, 32)        4         \n",
      "_________________________________________________________________\n",
      "quant_flatten_1 (QuantizeWra (None, 6272)              1         \n",
      "_________________________________________________________________\n",
      "quant_dense_1 (QuantizeWrapp (None, 128)               802954    \n",
      "_________________________________________________________________\n",
      "quant_dense_2 (QuantizeWrapp (None, 1)                 139       \n",
      "=================================================================\n",
      "Total params: 813,270\n",
      "Trainable params: 813,217\n",
      "Non-trainable params: 53\n",
      "_________________________________________________________________\n"
     ]
    }
   ],
   "source": [
    "quantized_model.summary()"
   ]
  },
  {
   "cell_type": "code",
   "execution_count": 9,
   "id": "downtown-lingerie",
   "metadata": {},
   "outputs": [
    {
     "name": "stdout",
     "output_type": "stream",
     "text": [
      "**************************************************\r\n",
      "* VITIS_AI Compilation - Xilinx Inc.\r\n",
      "**************************************************\r\n",
      "usage: vai_c_tensorflow2 [-h] [-m MODEL] [-a ARCH] [-o OUTPUT_DIR]\r\n",
      "                         [-n NET_NAME] [-e OPTIONS]\r\n",
      "\r\n",
      "optional arguments:\r\n",
      "  -h, --help            show this help message and exit\r\n",
      "  -m MODEL, --model MODEL\r\n",
      "                        h5 model file\r\n",
      "  -a ARCH, --arch ARCH  json file\r\n",
      "  -o OUTPUT_DIR, --output_dir OUTPUT_DIR\r\n",
      "                        output directory\r\n",
      "  -n NET_NAME, --net_name NET_NAME\r\n",
      "                        prefix-name for the outputs\r\n",
      "  -e OPTIONS, --options OPTIONS\r\n",
      "                        extra options\r\n"
     ]
    }
   ],
   "source": [
    "!vai_c_tensorflow2 -h"
   ]
  },
  {
   "cell_type": "code",
   "execution_count": 10,
   "id": "going-leeds",
   "metadata": {},
   "outputs": [
    {
     "name": "stdout",
     "output_type": "stream",
     "text": [
      "**************************************************\r\n",
      "* VITIS_AI Compilation - Xilinx Inc.\r\n",
      "**************************************************\r\n",
      "ERROR: NO FRONT END SPECIFIED\r\n"
     ]
    }
   ],
   "source": [
    "!vai_c_tensorflow2 -m vitis-ai-quantized-cat_dog-classification-model.h5 -a /opt/vitis_ai/compiler/arch/DPUCADX8G/ALVEO/arch.json -o vitis-compiled/ -n cat_dog_XIR"
   ]
  },
  {
   "cell_type": "code",
   "execution_count": null,
   "id": "framed-series",
   "metadata": {},
   "outputs": [],
   "source": []
  }
 ],
 "metadata": {
  "kernelspec": {
   "display_name": "Python 3",
   "language": "python",
   "name": "python3"
  },
  "language_info": {
   "codemirror_mode": {
    "name": "ipython",
    "version": 3
   },
   "file_extension": ".py",
   "mimetype": "text/x-python",
   "name": "python",
   "nbconvert_exporter": "python",
   "pygments_lexer": "ipython3",
   "version": "3.7.9"
  }
 },
 "nbformat": 4,
 "nbformat_minor": 5
}
